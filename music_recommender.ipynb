{
 "cells": [
  {
   "cell_type": "code",
   "execution_count": 23,
   "id": "28ed8843",
   "metadata": {},
   "outputs": [
    {
     "name": "stderr",
     "output_type": "stream",
     "text": [
      "C:\\Users\\Cashy\\anaconda3\\lib\\site-packages\\sklearn\\base.py:450: UserWarning: X does not have valid feature names, but DecisionTreeClassifier was fitted with feature names\n",
      "  X_feature_names = _get_feature_names(X)\n"
     ]
    },
    {
     "ename": "ValueError",
     "evalue": "Expected 2D array, got 1D array instead:\narray=[21.  1.].\nReshape your data either using array.reshape(-1, 1) if your data has a single feature or array.reshape(1, -1) if it contains a single sample.",
     "output_type": "error",
     "traceback": [
      "\u001b[1;31m---------------------------------------------------------------------------\u001b[0m",
      "\u001b[1;31mValueError\u001b[0m                                Traceback (most recent call last)",
      "Cell \u001b[1;32mIn[23], line 20\u001b[0m\n\u001b[0;32m      9\u001b[0m \u001b[38;5;66;03m#music_data = pd.read_csv('music.csv')\u001b[39;00m\n\u001b[0;32m     10\u001b[0m \u001b[38;5;66;03m#x = music_data.drop(columns=['genre'])\u001b[39;00m\n\u001b[0;32m     11\u001b[0m \u001b[38;5;66;03m#y = music_data['genre']\u001b[39;00m\n\u001b[1;32m   (...)\u001b[0m\n\u001b[0;32m     15\u001b[0m \n\u001b[0;32m     16\u001b[0m \u001b[38;5;66;03m#joblib.dump(model, 'music-recommender.joblib')\u001b[39;00m\n\u001b[0;32m     18\u001b[0m model \u001b[38;5;241m=\u001b[39m joblib\u001b[38;5;241m.\u001b[39mload(\u001b[38;5;124m'\u001b[39m\u001b[38;5;124mmusic-recommender.joblib\u001b[39m\u001b[38;5;124m'\u001b[39m)\n\u001b[1;32m---> 20\u001b[0m predictions \u001b[38;5;241m=\u001b[39m \u001b[43mmodel\u001b[49m\u001b[38;5;241;43m.\u001b[39;49m\u001b[43mpredict\u001b[49m\u001b[43m(\u001b[49m\u001b[43m[\u001b[49m\u001b[38;5;241;43m21\u001b[39;49m\u001b[43m,\u001b[49m\u001b[43m \u001b[49m\u001b[38;5;241;43m1\u001b[39;49m\u001b[43m]\u001b[49m\u001b[43m)\u001b[49m\n\u001b[0;32m     21\u001b[0m predictions\n",
      "File \u001b[1;32m~\\anaconda3\\lib\\site-packages\\sklearn\\tree\\_classes.py:467\u001b[0m, in \u001b[0;36mpredict\u001b[1;34m(self, X, check_input)\u001b[0m\n\u001b[0;32m    459\u001b[0m         force_all_finite \u001b[38;5;241m=\u001b[39m \u001b[38;5;28;01mTrue\u001b[39;00m\n\u001b[0;32m    460\u001b[0m     X \u001b[38;5;241m=\u001b[39m \u001b[38;5;28mself\u001b[39m\u001b[38;5;241m.\u001b[39m_validate_data(\n\u001b[0;32m    461\u001b[0m         X,\n\u001b[0;32m    462\u001b[0m         dtype\u001b[38;5;241m=\u001b[39mDTYPE,\n\u001b[1;32m   (...)\u001b[0m\n\u001b[0;32m    465\u001b[0m         force_all_finite\u001b[38;5;241m=\u001b[39mforce_all_finite,\n\u001b[0;32m    466\u001b[0m     )\n\u001b[1;32m--> 467\u001b[0m     \u001b[38;5;28;01mif\u001b[39;00m issparse(X) \u001b[38;5;129;01mand\u001b[39;00m (\n\u001b[0;32m    468\u001b[0m         X\u001b[38;5;241m.\u001b[39mindices\u001b[38;5;241m.\u001b[39mdtype \u001b[38;5;241m!=\u001b[39m np\u001b[38;5;241m.\u001b[39mintc \u001b[38;5;129;01mor\u001b[39;00m X\u001b[38;5;241m.\u001b[39mindptr\u001b[38;5;241m.\u001b[39mdtype \u001b[38;5;241m!=\u001b[39m np\u001b[38;5;241m.\u001b[39mintc\n\u001b[0;32m    469\u001b[0m     ):\n\u001b[0;32m    470\u001b[0m         \u001b[38;5;28;01mraise\u001b[39;00m \u001b[38;5;167;01mValueError\u001b[39;00m(\u001b[38;5;124m\"\u001b[39m\u001b[38;5;124mNo support for np.int64 index based sparse matrices\u001b[39m\u001b[38;5;124m\"\u001b[39m)\n\u001b[0;32m    471\u001b[0m \u001b[38;5;28;01melse\u001b[39;00m:\n\u001b[0;32m    472\u001b[0m     \u001b[38;5;66;03m# The number of features is checked regardless of `check_input`\u001b[39;00m\n",
      "File \u001b[1;32m~\\anaconda3\\lib\\site-packages\\sklearn\\tree\\_classes.py:433\u001b[0m, in \u001b[0;36m_validate_X_predict\u001b[1;34m(self, X, check_input)\u001b[0m\n\u001b[0;32m    424\u001b[0m     builder \u001b[38;5;241m=\u001b[39m DepthFirstTreeBuilder(\n\u001b[0;32m    425\u001b[0m         splitter,\n\u001b[0;32m    426\u001b[0m         min_samples_split,\n\u001b[1;32m   (...)\u001b[0m\n\u001b[0;32m    430\u001b[0m         \u001b[38;5;28mself\u001b[39m\u001b[38;5;241m.\u001b[39mmin_impurity_decrease,\n\u001b[0;32m    431\u001b[0m     )\n\u001b[0;32m    432\u001b[0m \u001b[38;5;28;01melse\u001b[39;00m:\n\u001b[1;32m--> 433\u001b[0m     builder \u001b[38;5;241m=\u001b[39m BestFirstTreeBuilder(\n\u001b[0;32m    434\u001b[0m         splitter,\n\u001b[0;32m    435\u001b[0m         min_samples_split,\n\u001b[0;32m    436\u001b[0m         min_samples_leaf,\n\u001b[0;32m    437\u001b[0m         min_weight_leaf,\n\u001b[0;32m    438\u001b[0m         max_depth,\n\u001b[0;32m    439\u001b[0m         max_leaf_nodes,\n\u001b[0;32m    440\u001b[0m         \u001b[38;5;28mself\u001b[39m\u001b[38;5;241m.\u001b[39mmin_impurity_decrease,\n\u001b[0;32m    441\u001b[0m     )\n\u001b[0;32m    443\u001b[0m builder\u001b[38;5;241m.\u001b[39mbuild(\u001b[38;5;28mself\u001b[39m\u001b[38;5;241m.\u001b[39mtree_, X, y, sample_weight, missing_values_in_feature_mask)\n\u001b[0;32m    445\u001b[0m \u001b[38;5;28;01mif\u001b[39;00m \u001b[38;5;28mself\u001b[39m\u001b[38;5;241m.\u001b[39mn_outputs_ \u001b[38;5;241m==\u001b[39m \u001b[38;5;241m1\u001b[39m \u001b[38;5;129;01mand\u001b[39;00m is_classifier(\u001b[38;5;28mself\u001b[39m):\n",
      "File \u001b[1;32m~\\anaconda3\\lib\\site-packages\\sklearn\\base.py:566\u001b[0m, in \u001b[0;36m_validate_data\u001b[1;34m(self, X, y, reset, validate_separately, **check_params)\u001b[0m\n\u001b[0;32m    508\u001b[0m \u001b[38;5;28;01mdef\u001b[39;00m \u001b[38;5;21m_validate_data\u001b[39m(\n\u001b[0;32m    509\u001b[0m     \u001b[38;5;28mself\u001b[39m,\n\u001b[0;32m    510\u001b[0m     X\u001b[38;5;241m=\u001b[39m\u001b[38;5;124m\"\u001b[39m\u001b[38;5;124mno_validation\u001b[39m\u001b[38;5;124m\"\u001b[39m,\n\u001b[1;32m   (...)\u001b[0m\n\u001b[0;32m    515\u001b[0m     \u001b[38;5;241m*\u001b[39m\u001b[38;5;241m*\u001b[39mcheck_params,\n\u001b[0;32m    516\u001b[0m ):\n\u001b[0;32m    517\u001b[0m \u001b[38;5;250m    \u001b[39m\u001b[38;5;124;03m\"\"\"Validate input data and set or check the `n_features_in_` attribute.\u001b[39;00m\n\u001b[0;32m    518\u001b[0m \n\u001b[0;32m    519\u001b[0m \u001b[38;5;124;03m    Parameters\u001b[39;00m\n\u001b[0;32m    520\u001b[0m \u001b[38;5;124;03m    ----------\u001b[39;00m\n\u001b[0;32m    521\u001b[0m \u001b[38;5;124;03m    X : {array-like, sparse matrix, dataframe} of shape \\\u001b[39;00m\n\u001b[0;32m    522\u001b[0m \u001b[38;5;124;03m            (n_samples, n_features), default='no validation'\u001b[39;00m\n\u001b[0;32m    523\u001b[0m \u001b[38;5;124;03m        The input samples.\u001b[39;00m\n\u001b[0;32m    524\u001b[0m \u001b[38;5;124;03m        If `'no_validation'`, no validation is performed on `X`. This is\u001b[39;00m\n\u001b[0;32m    525\u001b[0m \u001b[38;5;124;03m        useful for meta-estimator which can delegate input validation to\u001b[39;00m\n\u001b[0;32m    526\u001b[0m \u001b[38;5;124;03m        their underlying estimator(s). In that case `y` must be passed and\u001b[39;00m\n\u001b[0;32m    527\u001b[0m \u001b[38;5;124;03m        the only accepted `check_params` are `multi_output` and\u001b[39;00m\n\u001b[0;32m    528\u001b[0m \u001b[38;5;124;03m        `y_numeric`.\u001b[39;00m\n\u001b[0;32m    529\u001b[0m \n\u001b[0;32m    530\u001b[0m \u001b[38;5;124;03m    y : array-like of shape (n_samples,), default='no_validation'\u001b[39;00m\n\u001b[0;32m    531\u001b[0m \u001b[38;5;124;03m        The targets.\u001b[39;00m\n\u001b[0;32m    532\u001b[0m \n\u001b[0;32m    533\u001b[0m \u001b[38;5;124;03m        - If `None`, `check_array` is called on `X`. If the estimator's\u001b[39;00m\n\u001b[0;32m    534\u001b[0m \u001b[38;5;124;03m          requires_y tag is True, then an error will be raised.\u001b[39;00m\n\u001b[0;32m    535\u001b[0m \u001b[38;5;124;03m        - If `'no_validation'`, `check_array` is called on `X` and the\u001b[39;00m\n\u001b[0;32m    536\u001b[0m \u001b[38;5;124;03m          estimator's requires_y tag is ignored. This is a default\u001b[39;00m\n\u001b[0;32m    537\u001b[0m \u001b[38;5;124;03m          placeholder and is never meant to be explicitly set. In that case\u001b[39;00m\n\u001b[0;32m    538\u001b[0m \u001b[38;5;124;03m          `X` must be passed.\u001b[39;00m\n\u001b[0;32m    539\u001b[0m \u001b[38;5;124;03m        - Otherwise, only `y` with `_check_y` or both `X` and `y` are\u001b[39;00m\n\u001b[0;32m    540\u001b[0m \u001b[38;5;124;03m          checked with either `check_array` or `check_X_y` depending on\u001b[39;00m\n\u001b[0;32m    541\u001b[0m \u001b[38;5;124;03m          `validate_separately`.\u001b[39;00m\n\u001b[0;32m    542\u001b[0m \n\u001b[0;32m    543\u001b[0m \u001b[38;5;124;03m    reset : bool, default=True\u001b[39;00m\n\u001b[0;32m    544\u001b[0m \u001b[38;5;124;03m        Whether to reset the `n_features_in_` attribute.\u001b[39;00m\n\u001b[0;32m    545\u001b[0m \u001b[38;5;124;03m        If False, the input will be checked for consistency with data\u001b[39;00m\n\u001b[0;32m    546\u001b[0m \u001b[38;5;124;03m        provided when reset was last True.\u001b[39;00m\n\u001b[0;32m    547\u001b[0m \u001b[38;5;124;03m        .. note::\u001b[39;00m\n\u001b[0;32m    548\u001b[0m \u001b[38;5;124;03m           It is recommended to call reset=True in `fit` and in the first\u001b[39;00m\n\u001b[0;32m    549\u001b[0m \u001b[38;5;124;03m           call to `partial_fit`. All other methods that validate `X`\u001b[39;00m\n\u001b[0;32m    550\u001b[0m \u001b[38;5;124;03m           should set `reset=False`.\u001b[39;00m\n\u001b[0;32m    551\u001b[0m \n\u001b[0;32m    552\u001b[0m \u001b[38;5;124;03m    validate_separately : False or tuple of dicts, default=False\u001b[39;00m\n\u001b[0;32m    553\u001b[0m \u001b[38;5;124;03m        Only used if y is not None.\u001b[39;00m\n\u001b[0;32m    554\u001b[0m \u001b[38;5;124;03m        If False, call validate_X_y(). Else, it must be a tuple of kwargs\u001b[39;00m\n\u001b[0;32m    555\u001b[0m \u001b[38;5;124;03m        to be used for calling check_array() on X and y respectively.\u001b[39;00m\n\u001b[0;32m    556\u001b[0m \n\u001b[0;32m    557\u001b[0m \u001b[38;5;124;03m        `estimator=self` is automatically added to these dicts to generate\u001b[39;00m\n\u001b[0;32m    558\u001b[0m \u001b[38;5;124;03m        more informative error message in case of invalid input data.\u001b[39;00m\n\u001b[0;32m    559\u001b[0m \n\u001b[0;32m    560\u001b[0m \u001b[38;5;124;03m    cast_to_ndarray : bool, default=True\u001b[39;00m\n\u001b[0;32m    561\u001b[0m \u001b[38;5;124;03m        Cast `X` and `y` to ndarray with checks in `check_params`. If\u001b[39;00m\n\u001b[0;32m    562\u001b[0m \u001b[38;5;124;03m        `False`, `X` and `y` are unchanged and only `feature_names_in_` and\u001b[39;00m\n\u001b[0;32m    563\u001b[0m \u001b[38;5;124;03m        `n_features_in_` are checked.\u001b[39;00m\n\u001b[0;32m    564\u001b[0m \n\u001b[0;32m    565\u001b[0m \u001b[38;5;124;03m    **check_params : kwargs\u001b[39;00m\n\u001b[1;32m--> 566\u001b[0m \u001b[38;5;124;03m        Parameters passed to :func:`sklearn.utils.check_array` or\u001b[39;00m\n\u001b[0;32m    567\u001b[0m \u001b[38;5;124;03m        :func:`sklearn.utils.check_X_y`. Ignored if validate_separately\u001b[39;00m\n\u001b[0;32m    568\u001b[0m \u001b[38;5;124;03m        is not False.\u001b[39;00m\n\u001b[0;32m    569\u001b[0m \n\u001b[0;32m    570\u001b[0m \u001b[38;5;124;03m        `estimator=self` is automatically added to these params to generate\u001b[39;00m\n\u001b[0;32m    571\u001b[0m \u001b[38;5;124;03m        more informative error message in case of invalid input data.\u001b[39;00m\n\u001b[0;32m    572\u001b[0m \n\u001b[0;32m    573\u001b[0m \u001b[38;5;124;03m    Returns\u001b[39;00m\n\u001b[0;32m    574\u001b[0m \u001b[38;5;124;03m    -------\u001b[39;00m\n\u001b[0;32m    575\u001b[0m \u001b[38;5;124;03m    out : {ndarray, sparse matrix} or tuple of these\u001b[39;00m\n\u001b[0;32m    576\u001b[0m \u001b[38;5;124;03m        The validated input. A tuple is returned if both `X` and `y` are\u001b[39;00m\n\u001b[0;32m    577\u001b[0m \u001b[38;5;124;03m        validated.\u001b[39;00m\n\u001b[0;32m    578\u001b[0m \u001b[38;5;124;03m    \"\"\"\u001b[39;00m\n\u001b[0;32m    579\u001b[0m     \u001b[38;5;28mself\u001b[39m\u001b[38;5;241m.\u001b[39m_check_feature_names(X, reset\u001b[38;5;241m=\u001b[39mreset)\n\u001b[0;32m    581\u001b[0m     \u001b[38;5;28;01mif\u001b[39;00m y \u001b[38;5;129;01mis\u001b[39;00m \u001b[38;5;28;01mNone\u001b[39;00m \u001b[38;5;129;01mand\u001b[39;00m \u001b[38;5;28mself\u001b[39m\u001b[38;5;241m.\u001b[39m_get_tags()[\u001b[38;5;124m\"\u001b[39m\u001b[38;5;124mrequires_y\u001b[39m\u001b[38;5;124m\"\u001b[39m]:\n",
      "File \u001b[1;32m~\\anaconda3\\lib\\site-packages\\sklearn\\utils\\validation.py:769\u001b[0m, in \u001b[0;36mcheck_array\u001b[1;34m(array, accept_sparse, accept_large_sparse, dtype, order, copy, force_all_finite, ensure_2d, allow_nd, ensure_min_samples, ensure_min_features, estimator)\u001b[0m\n\u001b[0;32m    766\u001b[0m dtype_numeric \u001b[38;5;241m=\u001b[39m \u001b[38;5;28misinstance\u001b[39m(dtype, \u001b[38;5;28mstr\u001b[39m) \u001b[38;5;129;01mand\u001b[39;00m dtype \u001b[38;5;241m==\u001b[39m \u001b[38;5;124m\"\u001b[39m\u001b[38;5;124mnumeric\u001b[39m\u001b[38;5;124m\"\u001b[39m\n\u001b[0;32m    768\u001b[0m dtype_orig \u001b[38;5;241m=\u001b[39m \u001b[38;5;28mgetattr\u001b[39m(array, \u001b[38;5;124m\"\u001b[39m\u001b[38;5;124mdtype\u001b[39m\u001b[38;5;124m\"\u001b[39m, \u001b[38;5;28;01mNone\u001b[39;00m)\n\u001b[1;32m--> 769\u001b[0m \u001b[38;5;28;01mif\u001b[39;00m \u001b[38;5;129;01mnot\u001b[39;00m is_array_api_compliant \u001b[38;5;129;01mand\u001b[39;00m \u001b[38;5;129;01mnot\u001b[39;00m \u001b[38;5;28mhasattr\u001b[39m(dtype_orig, \u001b[38;5;124m\"\u001b[39m\u001b[38;5;124mkind\u001b[39m\u001b[38;5;124m\"\u001b[39m):\n\u001b[0;32m    770\u001b[0m     \u001b[38;5;66;03m# not a data type (e.g. a column named dtype in a pandas DataFrame)\u001b[39;00m\n\u001b[0;32m    771\u001b[0m     dtype_orig \u001b[38;5;241m=\u001b[39m \u001b[38;5;28;01mNone\u001b[39;00m\n\u001b[0;32m    773\u001b[0m \u001b[38;5;66;03m# check if the object contains several dtypes (typically a pandas\u001b[39;00m\n\u001b[0;32m    774\u001b[0m \u001b[38;5;66;03m# DataFrame), and store them. If not, store None.\u001b[39;00m\n",
      "\u001b[1;31mValueError\u001b[0m: Expected 2D array, got 1D array instead:\narray=[21.  1.].\nReshape your data either using array.reshape(-1, 1) if your data has a single feature or array.reshape(1, -1) if it contains a single sample."
     ]
    }
   ],
   "source": [
    "# read the data\n",
    "import pandas as pd\n",
    "from sklearn.tree import DecisionTreeClassifier\n",
    "from sklearn.model_selection import train_test_split\n",
    "from sklearn.metrics import accuracy_score\n",
    "import joblib\n",
    "\n",
    "\n",
    "#music_data = pd.read_csv('music.csv')\n",
    "#x = music_data.drop(columns=['genre'])\n",
    "#y = music_data['genre']\n",
    "\n",
    "#model = DecisionTreeClassifier()\n",
    "#model.fit(x_train, y_train)\n",
    "\n",
    "#joblib.dump(model, 'music-recommender.joblib')\n",
    "\n",
    "model = joblib.load('music-recommender.joblib')\n",
    "\n",
    "predictions = model.predict([21, 1])\n",
    "predictions\n"
   ]
  },
  {
   "cell_type": "code",
   "execution_count": null,
   "id": "ff7ae0b7",
   "metadata": {},
   "outputs": [],
   "source": []
  }
 ],
 "metadata": {
  "kernelspec": {
   "display_name": "Python 3 (ipykernel)",
   "language": "python",
   "name": "python3"
  },
  "language_info": {
   "codemirror_mode": {
    "name": "ipython",
    "version": 3
   },
   "file_extension": ".py",
   "mimetype": "text/x-python",
   "name": "python",
   "nbconvert_exporter": "python",
   "pygments_lexer": "ipython3",
   "version": "3.9.13"
  }
 },
 "nbformat": 4,
 "nbformat_minor": 5
}
